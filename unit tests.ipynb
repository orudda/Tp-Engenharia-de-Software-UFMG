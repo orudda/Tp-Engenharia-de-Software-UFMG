{
 "cells": [
  {
   "cell_type": "code",
   "execution_count": 34,
   "metadata": {},
   "outputs": [],
   "source": [
    "import numpy as np"
   ]
  },
  {
   "cell_type": "code",
   "execution_count": 48,
   "metadata": {},
   "outputs": [],
   "source": [
    "def cuboid_volume(l):\n",
    "    return (l*l*l)\n",
    "\n",
    "def swap(x,y):\n",
    "    return y,x\n",
    "\n",
    "def merge(x,y):\n",
    "    arr = np.concatenate((x, y))\n",
    "    return arr\n"
   ]
  },
  {
   "cell_type": "code",
   "execution_count": 81,
   "metadata": {},
   "outputs": [],
   "source": [
    "class Test():\n",
    "    def test_volume():\n",
    "        if(cuboid_volume(3)!=27):\n",
    "          raise TypeError('Funcao de calcular cubo errada')\n",
    "    \n",
    "    def test_list():\n",
    "        x = np.array([1,2,3,4,5])\n",
    "        x = x[0:len(x)-1]\n",
    "        head, *tail = x\n",
    "        if (tail != [2,3,4]):       \n",
    "            raise TypeError('remoção errada')\n",
    "            \n",
    "    def test_merge():       \n",
    "        arr1 = np.array([1, 2, 3])\n",
    "        arr2 = np.array([4, 5, 6])\n",
    "        arr = merge(arr1, arr2)\n",
    "        a = np.array([1, 2, 3, 4, 5, 6])\n",
    "        if (arr[5] != a[5]):       \n",
    "            raise TypeError('função merge errado')\n",
    "            \n",
    "    def test_sort():       \n",
    "        arr1 = np.array([1, 2, 4, 5, 6, 3])\n",
    "        arr = np.sort(arr1)\n",
    "        if (arr[5] != 6):       \n",
    "            raise TypeError('função merge errado')\n",
    "            \n",
    "    def test_string():\n",
    "        x='hello word'\n",
    "        y='hey'\n",
    "        assert (x[0]=='h')\n",
    "        \n",
    "    def test_swap():\n",
    "        y=3\n",
    "        x=4\n",
    "        x , y = swap(x,y)\n",
    "        assert (y == 4)\n",
    "        assert (x == 3)\n",
    "        \n",
    "    def test_soma():\n",
    "        a=2\n",
    "        b=3\n",
    "        assert ((a+b) == 5)\n",
    "\n",
    "    def test_sub():\n",
    "        a=2\n",
    "        b=3\n",
    "        assert ((a-b) == -1)\n"
   ]
  },
  {
   "cell_type": "code",
   "execution_count": 82,
   "metadata": {},
   "outputs": [],
   "source": [
    "Test.test_volume()\n",
    "Test.test_string()\n",
    "Test.test_swap()\n",
    "Test.test_list()\n",
    "Test.test_merge()\n",
    "Test.test_sort()\n",
    "Test.test_soma()\n",
    "Test.test_sub()"
   ]
  },
  {
   "cell_type": "code",
   "execution_count": null,
   "metadata": {},
   "outputs": [],
   "source": []
  }
 ],
 "metadata": {
  "kernelspec": {
   "display_name": "Python 3",
   "language": "python",
   "name": "python3"
  },
  "language_info": {
   "codemirror_mode": {
    "name": "ipython",
    "version": 3
   },
   "file_extension": ".py",
   "mimetype": "text/x-python",
   "name": "python",
   "nbconvert_exporter": "python",
   "pygments_lexer": "ipython3",
   "version": "3.7.3"
  }
 },
 "nbformat": 4,
 "nbformat_minor": 4
}
